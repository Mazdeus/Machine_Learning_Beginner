{
 "cells": [
  {
   "cell_type": "code",
   "execution_count": null,
   "metadata": {},
   "outputs": [],
   "source": [
    "import numpy as np\n",
    "import matplotlib.pyplot as plt\n",
    "from sklearn.cluster import KMeans\n",
    "from sklearn.datasets import make_blobs\n",
    "\n",
    "# Membuat dataset buatan\n",
    "X, y = make_blobs(n_samples=300, centers=4, cluster_std=0.60, random_state=0)\n",
    "\n",
    "# Menentukan rentang jumlah cluster yang akan diuji\n",
    "range_n_clusters = range(1, 9)\n",
    "\n",
    "# Menyimpan hasil SSE untuk setiap jumlah cluster\n",
    "sse = []\n",
    "\n",
    "# Menghitung SSE untuk setiap jumlah cluster\n",
    "for n_clusters in range_n_clusters:\n",
    "    kmeans = KMeans(n_clusters=n_clusters, random_state=0)\n",
    "    kmeans.fit(X)\n",
    "    sse.append(kmeans.inertia_)\n",
    "\n",
    "# Menentukan titik elbow terbaik\n",
    "# Menghitung perubahan nilai SSE\n",
    "slope_changes = np.diff(sse,2) # Menghitung perubahan kedua pada SSE\n",
    "optimal_k = np.argmin(slope_changes) + 2 # +2 karena np.diff mengurangi panjang array\n",
    "\n",
    "# Membuat plot untuk menentukan titik elbow\n",
    "plt.figure(figsize=(8, 6))\n",
    "plt.plot(range_n_clusters, sse, marker = 'o')\n",
    "plt.xlabel('Number of clusters')\n",
    "plt.ylabel('SSE (Sum of Squared Errors)')\n",
    "plt.title('Elbow Method untuk menentukan jumlah cluster optimal')\n",
    "plt.grid(True)\n",
    "\n",
    "# Menandai tiitk elbow\n",
    "plt.axvline(x=optimal_k, color='r', linestyle='--')\n",
    "plt.text(optimal_k, sse[optimal_k-1], f'Optimal k ={optimal_k}\\nSSE={sse[optimal_k-1]:.2f}', \n",
    "         horizontalalignment='right', verticalalignment='bottom', color='r')\n",
    "\n",
    "plt.show()\n",
    "\n",
    "# Menampilkan hasil\n",
    "print(f'Jumlah cluster optimal: {optimal_k}.')\n",
    "print(f'Nilai SSE pada k={optimal_k} adalah {sse[optimal_k-1]:.2f}.')"
   ]
  }
 ],
 "metadata": {
  "kernelspec": {
   "display_name": "Python 3",
   "language": "python",
   "name": "python3"
  },
  "language_info": {
   "codemirror_mode": {
    "name": "ipython",
    "version": 3
   },
   "file_extension": ".py",
   "mimetype": "text/x-python",
   "name": "python",
   "nbconvert_exporter": "python",
   "pygments_lexer": "ipython3",
   "version": "3.13.0"
  }
 },
 "nbformat": 4,
 "nbformat_minor": 2
}
